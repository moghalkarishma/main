{
 "cells": [
  {
   "cell_type": "code",
   "execution_count": null,
   "metadata": {
    "id": "uB2GbZQChnE1"
   },
   "outputs": [],
   "source": []
  },
  {
   "cell_type": "code",
   "execution_count": null,
   "metadata": {
    "colab": {
     "base_uri": "https://localhost:8080/"
    },
    "id": "5YTXBFwshyQJ",
    "outputId": "15cf449d-768d-4467-9da1-81635568cf27"
   },
   "outputs": [
    {
     "name": "stdout",
     "output_type": "stream",
     "text": [
      "Drive already mounted at /content/drive; to attempt to forcibly remount, call drive.mount(\"/content/drive\", force_remount=True).\n"
     ]
    }
   ],
   "source": [
    "from google.colab import drive\n",
    "drive.mount('/content/drive')"
   ]
  },
  {
   "cell_type": "code",
   "execution_count": null,
   "metadata": {
    "colab": {
     "base_uri": "https://localhost:8080/"
    },
    "id": "sByq_x__shC2",
    "outputId": "a12d382c-04fe-471f-a58e-8096a47453b1"
   },
   "outputs": [
    {
     "name": "stdout",
     "output_type": "stream",
     "text": [
      "Class: 'Africanized Honey Bees (Killer Bees)'\n",
      "Input directory: /content/drive/MyDrive/Colab Notebooks/archive (4)/farm_insects/Africanized Honey Bees (Killer Bees)\n",
      "Output directory: /content/drive/MyDrive/Colab Notebooks/archive (4)/farm_insects/Africanized Honey Bees (Killer Bees)\n",
      "Original images: 97\n",
      "Augmented images generated: 384\n",
      "Total images after augmentation: 481\n",
      "--------------------------------------------------\n",
      "Class: 'Aphids'\n",
      "Input directory: /content/drive/MyDrive/Colab Notebooks/archive (4)/farm_insects/Aphids\n",
      "Output directory: /content/drive/MyDrive/Colab Notebooks/archive (4)/farm_insects/Aphids\n",
      "Original images: 88\n",
      "Augmented images generated: 312\n",
      "Total images after augmentation: 400\n",
      "--------------------------------------------------\n",
      "Class: 'Armyworms'\n",
      "Input directory: /content/drive/MyDrive/Colab Notebooks/archive (4)/farm_insects/Armyworms\n",
      "Output directory: /content/drive/MyDrive/Colab Notebooks/archive (4)/farm_insects/Armyworms\n",
      "Original images: 96\n",
      "Augmented images generated: 360\n",
      "Total images after augmentation: 456\n",
      "--------------------------------------------------\n"
     ]
    },
    {
     "name": "stderr",
     "output_type": "stream",
     "text": [
      "/usr/local/lib/python3.10/dist-packages/PIL/Image.py:1056: UserWarning: Palette images with Transparency expressed in bytes should be converted to RGBA images\n",
      "  warnings.warn(\n"
     ]
    },
    {
     "name": "stdout",
     "output_type": "stream",
     "text": [
      "Class: 'Brown Marmorated Stink Bugs'\n",
      "Input directory: /content/drive/MyDrive/Colab Notebooks/archive (4)/farm_insects/Brown Marmorated Stink Bugs\n",
      "Output directory: /content/drive/MyDrive/Colab Notebooks/archive (4)/farm_insects/Brown Marmorated Stink Bugs\n",
      "Original images: 114\n",
      "Augmented images generated: 428\n",
      "Total images after augmentation: 542\n",
      "--------------------------------------------------\n",
      "Class: 'Cabbage Loopers'\n",
      "Input directory: /content/drive/MyDrive/Colab Notebooks/archive (4)/farm_insects/Cabbage Loopers\n",
      "Output directory: /content/drive/MyDrive/Colab Notebooks/archive (4)/farm_insects/Cabbage Loopers\n",
      "Original images: 104\n",
      "Augmented images generated: 396\n",
      "Total images after augmentation: 500\n",
      "--------------------------------------------------\n",
      "Class: 'Citrus Canker'\n",
      "Input directory: /content/drive/MyDrive/Colab Notebooks/archive (4)/farm_insects/Citrus Canker\n",
      "Output directory: /content/drive/MyDrive/Colab Notebooks/archive (4)/farm_insects/Citrus Canker\n",
      "Original images: 104\n",
      "Augmented images generated: 416\n",
      "Total images after augmentation: 519\n",
      "--------------------------------------------------\n",
      "Class: 'Colorado Potato Beetles'\n",
      "Input directory: /content/drive/MyDrive/Colab Notebooks/archive (4)/farm_insects/Colorado Potato Beetles\n",
      "Output directory: /content/drive/MyDrive/Colab Notebooks/archive (4)/farm_insects/Colorado Potato Beetles\n",
      "Original images: 112\n",
      "Augmented images generated: 428\n",
      "Total images after augmentation: 540\n",
      "--------------------------------------------------\n",
      "Class: 'Corn Borers'\n",
      "Input directory: /content/drive/MyDrive/Colab Notebooks/archive (4)/farm_insects/Corn Borers\n",
      "Output directory: /content/drive/MyDrive/Colab Notebooks/archive (4)/farm_insects/Corn Borers\n",
      "Original images: 115\n",
      "Augmented images generated: 428\n",
      "Total images after augmentation: 543\n",
      "--------------------------------------------------\n",
      "Class: 'Corn Earworms'\n",
      "Input directory: /content/drive/MyDrive/Colab Notebooks/archive (4)/farm_insects/Corn Earworms\n",
      "Output directory: /content/drive/MyDrive/Colab Notebooks/archive (4)/farm_insects/Corn Earworms\n",
      "Original images: 110\n",
      "Augmented images generated: 408\n",
      "Total images after augmentation: 518\n",
      "--------------------------------------------------\n",
      "Class: 'Fall Armyworms'\n",
      "Input directory: /content/drive/MyDrive/Colab Notebooks/archive (4)/farm_insects/Fall Armyworms\n",
      "Output directory: /content/drive/MyDrive/Colab Notebooks/archive (4)/farm_insects/Fall Armyworms\n",
      "Original images: 113\n",
      "Augmented images generated: 416\n",
      "Total images after augmentation: 529\n",
      "--------------------------------------------------\n",
      "Class: 'Fruit Flies'\n",
      "Input directory: /content/drive/MyDrive/Colab Notebooks/archive (4)/farm_insects/Fruit Flies\n",
      "Output directory: /content/drive/MyDrive/Colab Notebooks/archive (4)/farm_insects/Fruit Flies\n",
      "Original images: 101\n",
      "Augmented images generated: 380\n",
      "Total images after augmentation: 481\n",
      "--------------------------------------------------\n",
      "Class: 'Spider Mites'\n",
      "Input directory: /content/drive/MyDrive/Colab Notebooks/archive (4)/farm_insects/Spider Mites\n",
      "Output directory: /content/drive/MyDrive/Colab Notebooks/archive (4)/farm_insects/Spider Mites\n",
      "Original images: 119\n",
      "Augmented images generated: 452\n",
      "Total images after augmentation: 571\n",
      "--------------------------------------------------\n",
      "Class: 'Thrips'\n",
      "Input directory: /content/drive/MyDrive/Colab Notebooks/archive (4)/farm_insects/Thrips\n",
      "Output directory: /content/drive/MyDrive/Colab Notebooks/archive (4)/farm_insects/Thrips\n",
      "Original images: 109\n",
      "Augmented images generated: 396\n",
      "Total images after augmentation: 505\n",
      "--------------------------------------------------\n",
      "Class: 'Tomato Hornworms'\n",
      "Input directory: /content/drive/MyDrive/Colab Notebooks/archive (4)/farm_insects/Tomato Hornworms\n",
      "Output directory: /content/drive/MyDrive/Colab Notebooks/archive (4)/farm_insects/Tomato Hornworms\n",
      "Original images: 109\n",
      "Augmented images generated: 376\n",
      "Total images after augmentation: 485\n",
      "--------------------------------------------------\n",
      "Class: 'Western Corn Rootworms'\n",
      "Input directory: /content/drive/MyDrive/Colab Notebooks/archive (4)/farm_insects/Western Corn Rootworms\n",
      "Output directory: /content/drive/MyDrive/Colab Notebooks/archive (4)/farm_insects/Western Corn Rootworms\n",
      "Original images: 100\n",
      "Augmented images generated: 388\n",
      "Total images after augmentation: 487\n",
      "--------------------------------------------------\n"
     ]
    }
   ],
   "source": [
    "from google.colab import drive\n",
    "import os\n",
    "from tensorflow.keras.preprocessing.image import ImageDataGenerator, img_to_array, load_img\n",
    "import numpy as np\n",
    "\n",
    "# Mount Google Drive (Uncomment if needed)\n",
    "# drive.mount('/content/drive')\n",
    "\n",
    "# Path to the dataset directory\n",
    "dataset_dir = '/content/drive/MyDrive/Colab Notebooks/archive (4)/farm_insects'\n",
    "\n",
    "# ImageDataGenerator with augmentation parameters\n",
    "datagen = ImageDataGenerator(\n",
    "    rotation_range=40,\n",
    "    width_shift_range=0.2,\n",
    "    height_shift_range=0.2,\n",
    "    shear_range=0.2,\n",
    "    zoom_range=0.2,\n",
    "    horizontal_flip=True,\n",
    "    fill_mode='nearest'\n",
    ")\n",
    "\n",
    "\n",
    "insect_classes = [\n",
    "    'Africanized Honey Bees (Killer Bees)', 'Aphids', 'Armyworms', 'Brown Marmorated Stink Bugs',\n",
    "    'Cabbage Loopers', 'Citrus Canker', 'Colorado Potato Beetles', 'Corn Borers', 'Corn Earworms',\n",
    "    'Fall Armyworms', 'Fruit Flies', 'Spider Mites', 'Thrips', 'Tomato Hornworms', 'Western Corn Rootworms'\n",
    "]\n",
    "\n",
    "for insect_class in insect_classes:\n",
    "    input_dir = os.path.join(dataset_dir, insect_class)  # Path to the class folder\n",
    "    output_dir = input_dir\n",
    "\n",
    "    os.makedirs(output_dir, exist_ok=True)\n",
    "\n",
    "    total_augmented_images = 0\n",
    "\n",
    "    for filename in os.listdir(input_dir):\n",
    "        if filename.endswith('.jpg') or filename.endswith('.png') or filename.endswith('.tif'):  # Adjust for your file types\n",
    "            img_path = os.path.join(input_dir, filename)\n",
    "            img = load_img(img_path)  # Load image\n",
    "            x = img_to_array(img)\n",
    "            x = np.expand_dims(x, axis=0)\n",
    "\n",
    "            i = 0\n",
    "            for batch in datagen.flow(x, batch_size=1, save_to_dir=output_dir,\n",
    "                                      save_prefix='aug_' + filename.split('.')[0], save_format='jpeg'):\n",
    "                i += 1\n",
    "                if i >= 4:\n",
    "                    break\n",
    "            total_augmented_images += i\n",
    "\n",
    "    \n",
    "    original_images_count = len([f for f in os.listdir(input_dir) if f.startswith('aug_') is False])\n",
    "    num_images = len([f for f in os.listdir(output_dir) if os.path.isfile(os.path.join(output_dir, f))])\n",
    "\n",
    "    print(f\"Class: '{insect_class}'\")\n",
    "    print(f\"Input directory: {input_dir}\")\n",
    "    print(f\"Output directory: {output_dir}\")\n",
    "    print(f\"Original images: {original_images_count}\")\n",
    "    print(f\"Augmented images generated: {total_augmented_images}\")\n",
    "    print(f\"Total images after augmentation: {num_images}\")\n",
    "    print('-' * 50)\n"
   ]
  },
  {
   "cell_type": "code",
   "execution_count": null,
   "metadata": {
    "id": "q5FKiPHnsoDw"
   },
   "outputs": [],
   "source": []
  }
 ],
 "metadata": {
  "colab": {
   "provenance": []
  },
  "kernelspec": {
   "display_name": "Python 3",
   "name": "python3"
  },
  "language_info": {
   "name": "python"
  }
 },
 "nbformat": 4,
 "nbformat_minor": 0
}
